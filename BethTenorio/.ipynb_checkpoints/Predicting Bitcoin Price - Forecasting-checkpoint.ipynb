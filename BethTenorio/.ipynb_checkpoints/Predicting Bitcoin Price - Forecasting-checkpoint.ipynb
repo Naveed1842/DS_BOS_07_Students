{
 "cells": [
  {
   "cell_type": "markdown",
   "metadata": {},
   "source": [
    "#Predicting Bitcoin Price"
   ]
  },
  {
   "cell_type": "markdown",
   "metadata": {},
   "source": [
    "##Forecasting"
   ]
  },
  {
   "cell_type": "markdown",
   "metadata": {},
   "source": [
    "Use the exported data from 'Data Collection and Exploration' notebook to forecast the direction of the price of bitcoin."
   ]
  },
  {
   "cell_type": "markdown",
   "metadata": {},
   "source": [
    "###Imports"
   ]
  },
  {
   "cell_type": "code",
   "execution_count": 2,
   "metadata": {
    "collapsed": false
   },
   "outputs": [],
   "source": [
    "import pandas as pd\n",
    "from pandas.io.data import DataReader\n",
    "\n",
    "import numpy as np\n",
    "from datetime import datetime\n",
    "\n",
    "import sklearn\n",
    "from sklearn.linear_model import LinearRegression\n",
    "from sklearn.linear_model import LogisticRegression\n",
    "from sklearn.lda import LDA\n",
    "from sklearn.qda import QDA\n",
    "from sklearn.cross_validation import train_test_split\n",
    "\n",
    "import matplotlib.pyplot as plt\n",
    "%matplotlib inline\n"
   ]
  },
  {
   "cell_type": "markdown",
   "metadata": {},
   "source": [
    "###Creating Lagged Series"
   ]
  },
  {
   "cell_type": "markdown",
   "metadata": {},
   "source": [
    "Create a pandas DataFrame that contains the lagged percentage returns for a prior number of days (based on the approach described in [Forecasting Financial Time Series](https://www.quantstart.com/articles/Forecasting-Financial-Time-Series-Part-1)).\n",
    "\n",
    "Define a method to read in the collated bitcoin dataset and select the most recent 2 years:"
   ]
  },
  {
   "cell_type": "code",
   "execution_count": 3,
   "metadata": {
    "collapsed": true
   },
   "outputs": [],
   "source": [
    "def get_data(filename, index):\n",
    "    data = pd.read_csv(filename, index_col=index)\n",
    "    data = data[(data.date >= '2012-01-01') & (data.date <= '2015-12-31')]\n",
    "\n",
    "    return data"
   ]
  },
  {
   "cell_type": "markdown",
   "metadata": {},
   "source": [
    "Define methods create a series of lagged data and percentage returns corresponding to how much the price went up or down compared to the present daily price:"
   ]
  },
  {
   "cell_type": "code",
   "execution_count": 4,
   "metadata": {
    "collapsed": false
   },
   "outputs": [],
   "source": [
    "def create_lagged_df(data, lags):\n",
    "    datalag = pd.DataFrame(index=data.index)\n",
    "    datalag[\"price_usd\"] = data[\"price_usd\"]\n",
    "\n",
    "    # Create the shifted lag series of prior trading period price values\n",
    "    for i in xrange(0,lags):\n",
    "        datalag[\"lag%s\" % str(i+1)] = data[\"price_usd\"].shift(i+1)\n",
    "    \n",
    "    return datalag\n",
    "\n",
    "\n",
    "def create_returns_df(datalag):\n",
    "    returns = pd.DataFrame(index=datalag.index)\n",
    "    returns[\"price_usd\"] = datalag[\"price_usd\"].pct_change()*100.0\n",
    "    \n",
    "    return returns"
   ]
  },
  {
   "cell_type": "code",
   "execution_count": 5,
   "metadata": {
    "collapsed": false
   },
   "outputs": [],
   "source": [
    "def create_lagged_series(lags=30):\n",
    "    data = get_data('bitcoin_price.csv', 'trading_day')\n",
    "    \n",
    "    datalag = create_lagged_df(data, lags)\n",
    "\n",
    "    returns = create_returns_df(datalag)\n",
    "\n",
    "    # If any of the values of percentage returns equal zero, set them to\n",
    "    # a small number (stops issues with QDA model in scikit-learn)\n",
    "    for i,x in enumerate(returns[\"price_usd\"]):\n",
    "        if (abs(x) < 0.0001):\n",
    "            returns[\"price_usd\"][i] = 0.0001\n",
    "\n",
    "    # Create the lagged percentage returns columns\n",
    "    for i in xrange(0,lags):\n",
    "        returns[\"lag%s\" % str(i+1)] = datalag[\"lag%s\" % str(i+1)].pct_change()*100.0\n",
    "\n",
    "    # Create the \"Direction\" column (+1 or -1) indicating an up/down day\n",
    "    returns[\"direction\"] = np.sign(returns[\"price_usd\"])\n",
    "\n",
    "    return returns"
   ]
  },
  {
   "cell_type": "markdown",
   "metadata": {},
   "source": [
    "Define a method to fit the model on the training set, predict on the test data whether the price of bitcoin will increase or decrease from the prior day's price, then calculate the hit rate:"
   ]
  },
  {
   "cell_type": "code",
   "execution_count": 6,
   "metadata": {
    "collapsed": true
   },
   "outputs": [],
   "source": [
    "def fit_model(name, model, X_train, y_train, X_test, pred):\n",
    "    # Fit and predict the model on the training, and then test, data\n",
    "    fitted_model = model.fit(X_train, y_train)\n",
    "    pred[name] = model.predict(X_test)\n",
    "\n",
    "    # Create a series with 1 being correct direction, 0 being wrong\n",
    "    # and then calculate the hit rate based on the actual direction\n",
    "    pred[\"%s_Correct\" % name] = (1.0 + pred[name] * pred[\"Actual\"])/2.0\n",
    "    hit_rate = np.mean(pred[\"%s_Correct\" % name])\n",
    "    print \"%s: %.3f\" % (name, hit_rate)\n",
    "    \n",
    "    print fitted_model, \"\\n\""
   ]
  },
  {
   "cell_type": "markdown",
   "metadata": {},
   "source": [
    "Create the lagged series and exclude NAs:"
   ]
  },
  {
   "cell_type": "code",
   "execution_count": 9,
   "metadata": {
    "collapsed": false
   },
   "outputs": [],
   "source": [
    "btc = create_lagged_series(lags=14)\n",
    "btc = btc.dropna()\n",
    "predictors = [\"lag1\"]\n",
    "X = btc[predictors]\n",
    "y = btc[\"direction\"]"
   ]
  },
  {
   "cell_type": "markdown",
   "metadata": {},
   "source": [
    "Create the training and test sets"
   ]
  },
  {
   "cell_type": "code",
   "execution_count": 10,
   "metadata": {
    "collapsed": false
   },
   "outputs": [],
   "source": [
    "# The test data is split into two parts: Before and after September 2015\n",
    "start_test = '2015-09-01'\n",
    "\n",
    "# Create training and test sets\n",
    "X_train = X[X.index < start_test]\n",
    "X_test = X[X.index >= start_test]\n",
    "y_train = y[y.index < start_test]\n",
    "y_test = y[y.index >= start_test]"
   ]
  },
  {
   "cell_type": "markdown",
   "metadata": {},
   "source": [
    "Create the prediction DataFrame:"
   ]
  },
  {
   "cell_type": "code",
   "execution_count": 11,
   "metadata": {
    "collapsed": false
   },
   "outputs": [],
   "source": [
    "pred = pd.DataFrame(index=y_test.index)\n",
    "pred[\"Actual\"] = y_test"
   ]
  },
  {
   "cell_type": "markdown",
   "metadata": {},
   "source": [
    "Create and fit three basic models:"
   ]
  },
  {
   "cell_type": "code",
   "execution_count": 12,
   "metadata": {
    "collapsed": false
   },
   "outputs": [
    {
     "name": "stdout",
     "output_type": "stream",
     "text": [
      "Hit Rates:\n",
      "LR: 0.598\n",
      "LogisticRegression(C=1.0, class_weight=None, dual=False, fit_intercept=True,\n",
      "          intercept_scaling=1, max_iter=100, multi_class='ovr', n_jobs=1,\n",
      "          penalty='l2', random_state=None, solver='liblinear', tol=0.0001,\n",
      "          verbose=0, warm_start=False) \n",
      "\n",
      "LDA: 0.598\n",
      "LinearDiscriminantAnalysis(n_components=None, priors=None, shrinkage=None,\n",
      "              solver='svd', store_covariance=False, tol=0.0001) \n",
      "\n",
      "QDA: 0.590\n",
      "QuadraticDiscriminantAnalysis(priors=None, reg_param=0.0,\n",
      "               store_covariances=False, tol=0.0001) \n",
      "\n",
      "             Actual  LR  LR_Correct  LDA  LDA_Correct  QDA  QDA_Correct\n",
      "trading_day                                                            \n",
      "2015-09-01       -1   1           0    1            0    1            0\n",
      "2015-09-02        1   1           1    1            1    1            1\n",
      "2015-09-03       -1   1           0    1            0    1            0\n",
      "2015-09-04        1   1           1    1            1    1            1\n",
      "2015-09-05        1   1           1    1            1    1            1\n"
     ]
    }
   ],
   "source": [
    "print \"Hit Rates:\"\n",
    "models = [(\"LR\", LogisticRegression()), (\"LDA\", LDA()), (\"QDA\", QDA())]\n",
    "for m in models:\n",
    "    fit_model(m[0], m[1], X_train, y_train, X_test, pred)\n",
    "\n",
    "print pred.head()"
   ]
  },
  {
   "cell_type": "code",
   "execution_count": null,
   "metadata": {
    "collapsed": true
   },
   "outputs": [],
   "source": []
  }
 ],
 "metadata": {
  "kernelspec": {
   "display_name": "Python 2",
   "language": "python",
   "name": "python2"
  },
  "language_info": {
   "codemirror_mode": {
    "name": "ipython",
    "version": 2
   },
   "file_extension": ".py",
   "mimetype": "text/x-python",
   "name": "python",
   "nbconvert_exporter": "python",
   "pygments_lexer": "ipython2",
   "version": "2.7.9"
  }
 },
 "nbformat": 4,
 "nbformat_minor": 0
}
