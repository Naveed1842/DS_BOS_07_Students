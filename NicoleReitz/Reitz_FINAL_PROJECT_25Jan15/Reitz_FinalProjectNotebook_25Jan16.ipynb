{
 "cells": [
  {
   "cell_type": "markdown",
   "metadata": {},
   "source": [
    "Nicole Reitz  \n",
    "General Assembly  \n",
    "DAT_BOS_07  \n",
    "25 January 2015\n",
    "\n",
    "\n",
    "# Predicting Airbnb New User Bookings\n",
    "\n",
    "\n",
    "## Problem\n",
    "Airbnb is a website that connects people to list and rent short-term lodging. User listings include 1.5 million homes in 34,000 cities and 190 countries. Visitors to the Airbnb website are met with eye-catching photos of destinations near and far, inspiring both wanderlust and a sense of global community. Once a user spends time on the site, registers an account, or books a stay, the company has valuable data with which to recommend future accomodations and drive customer engagement. But Airbnb's ability to predict and showcase desireable destinations to new site visitors is key to winning new customers and ensuring that the travel bug bites!\n",
    "\n",
    "This project's challenge is to predict the country in which a new Airbnb user will make her first booking. All data was provided by Airbnb via Kaggle in a competition running from November 2015 to February 2016. My goal is to identify a classification model that successfully predicts a new user's booking destination, through exploration of the features provided and the machine learning techniques covered in General Assembly's Data Science course.\n",
    "\n",
    "Here's a link to the Kaggle competition page: https://www.kaggle.com/c/airbnb-recruiting-new-user-bookings\n",
    "\n",
    "\n",
    "## Data\n",
    "I chose to focus on the main training set provided by Airbnb for this competition. With information dating back to 2010, the dataset contained the following variables for 213,451 users in the United States:\n",
    "\n",
    "- Gender\n",
    "- Age\n",
    "- Signup method\n",
    "- Date account created\n",
    "- Timestamp of first activity\n",
    "- Date of first booking\n",
    "- Page viewed before signup\n",
    "- Language preference\n",
    "- Paid marketing type\n",
    "- Marketing provider\n",
    "- First marketing encountered\n",
    "- Signup app\n",
    "- Device type\n",
    "- Browser\n",
    "- Destination country (target variable for prediction)\n",
    "\n",
    "The destination country target variable contained 12 values: 'US', 'FR', 'CA', 'GB', 'ES', 'IT', 'PT', 'NL','DE', 'AU', 'NDF' (no booking at all), and 'other.' Airbnb was clear to point out that \"NDF\" indicated that the user did not book at all, and that \"other\" indicated a booking in a country not listed here.\n",
    "\n",
    "In my initial exploration of the data, I found that information was sparse and in many cases lacked variation. Fifty-eight percent of the users did not book a stay at all and 30% booked in US; the remaining 12% were split across 10 destination values. I thought that language preference might be a useful predictor, but 97% of users visited the English version of the site. Basic demographics, so often the foundation of customer analysis, were also missing a lot of data. Forty-five percent of users were of unidentified gender. Forty-one percent were of unidentified age, and many of the age values--ranging from 1 to 2016!--were not to be trusted. \n",
    "\n",
    "\n",
    "## Approach\n",
    "I found myself with many features to choose from, but no sense of their value. I decided to start with a decision tree classifier and let the algorithm identify the features of greatest importance; the categorical values and supervised dataset made this an appealing option. I also thought principal component analysis would be helpful in reducing what I saw would become an overwhelmingly large feature space after data cleaning.\n",
    "\n",
    "I began by checking each variable for missing values and recoding categorical NaNs into \"None\" values. I cleaned out the age variable, leaving only users ages 18-98 (one must be 18 to book on Airbnb) and recoded missing age values to the median, 34. I regrouped low-incidence language values into an \"other\" category, but kept languages corresponding to the target country destinations. Considering the effects of seasonality on travel, I converted timestamped features to datetime objects and extracted the month values only. Finally, I converted all categorical features to numeric components using get_dummies, dropping one column from each dummy data frame to reduce redundancy in the data.\n",
    "\n",
    "My first attempt at a decision tree classifier included only the age, gender, and language variables and yielded only 70% correct predictions. After completing the data cleaning steps described above, I re-ran the decision tree classifier with almost all features (149 after get_dummies!) included as options. After some experimentation with max_depth, I was able to improve the model to 87% accuracy (using scikit-learn cross-validation to evaluate my work). I then experimented with boosted decision trees, random forests, and extra trees classifiers. None performed quite as well as my first decision tree model, though boosted trees and random forests came close.\n",
    "\n",
    "Extending my data exploration to other classifiers required reduction in the feature space. My attempts to extract the best estimators using GridSearch were computationally taxing and failed. So I performed a principal component analysis; reducing the feature space to seven components allowed me to successfully run a k-nearest neighbors classifier. Reducing the feature space did not change the result of the decision tree classifier--given that the most successful tree depth was still within the number of features in the new space, that makes sense. The post-PCA KNN model was about as successful (85%) as boosted trees before and after PCA. Random forests and extra tree classifiers did not perform as well on the PCA-transformed data.\n",
    "\n",
    "The most important features emerging from the decision tree model were: month of first booking, signup channel (web/app), and marketing provider. It's interesting that these were more important to prediction than age, gender, or even language (though Dutch did emerge above other langauges in importance--I'm glad I kept it in!). As a market researcher, I see basic demographics driving customer analysis day in and day out. It's fascinating to me that, in this case and likely many others, the most telling factors in predicting consumer behavior could be so hidden from plain sight.\n",
    "\n",
    "\n",
    "## Challenges, Successes, and Next Steps\n",
    "I did browse another Kaggle entry or two to see how others approached the initial data exploration, but I committed to doing the work below on my own. It's not perfect, but it was deeply rewarding. And now that I have some data science under my belt, I can see how I'd like to improve it.\n",
    "\n",
    "First, I'd like to go back and rework some of my features. For example, age could be regrouped into 5- or 10-year buckets and the date variables could be regrouped into seasons to simplify and reduce the number of features. Airbnb also provided a whole other set of web session data that I didn't even touch--that could be merged with the user data for added insight. I'd like to try some other classifiers (logistic regression, support vector machines) and create better visualizations of the data and results. I'd also like to apply other algoriths to the important features identified by my decision tree classifier and see how they perform. I'd like to get GridSearch to work, at least on smaller subsets of my feature space. And there is one timestamped variable that gave me some trouble--with more time I would explore what's going on there.\n",
    "\n",
    "That said, predicting outcomes with 87% accuracy feels like success to me! The next step is to run my most successful predictive model on the unlabeled test data set provided by Airbnb and actually generate predictions for competition.\n",
    "\n",
    "The steps outlined in this project could be applied to any business looking to win over new customers with a customized experience from the start. The best classification algorithm may change from dataset to dataset, but the business problem is essentially universal.\n",
    "\n",
    "\n",
    "## Conclusions and Key Learnings\n",
    "As a true Python and data science beginner, I was surprised and delighted by each small success in this process. And the longer I stuck with it, the challenges started to feel more like challenges and less like utter defeat. At one point, I had the idea to retrieve my feature column list by converting the data frame column value array to a list and removing my target value. That's when I really started to believe in my own ability. \n",
    "\n",
    "Yes, I have a lot to learn. And this project taught me that applying the data science process to real-world problems is the very best way to do so. My most valuable takeaways are the knowledge that I enjoy data science and the desire to continue practicing.\n",
    "\n",
    "Thank you!"
   ]
  },
  {
   "cell_type": "code",
   "execution_count": 1,
   "metadata": {
    "collapsed": true
   },
   "outputs": [],
   "source": [
    "# DATA SCIENCE WORKFLOW - FOR REFERENCE.\n",
    "\n",
    "# 1. SPLIT DATA INTO CATEGORICAL AND NUMERIC DATA\n",
    "# 2. FILL NUMERIC NANS THROUGH IMPUTATION\n",
    "# 3. FILL CATEGORICAL NANS WITH 'NOTHING'\n",
    "# 4. DETECT LOW-FREQUENCY LEVELS IN CATEGORICAL FEATURES AND BIN THEM UNDER 'OTHER'\n",
    "# 5. ENCODE EACH CATEGORICAL VARIABLE INTO A SEQUENCE OF BINARY VARIABLES\n",
    "# 6. MERGE YOUR ENCODED CATEGORICAL DATA WITH YOUR NUMERIC DATA\n",
    "# 7. REMOVE FEATURES WITH NO VARIATION\n",
    "# 8. REMOVE PERFECTLY-CORELATED FEATURES\n",
    "# 9. SCALE YOUR DATA WITH ZERO MEAN AND UNIT VARIANCE\n",
    "# 10. PERFORM GRID SEARCH AND RFE ON YOUR DATA TO FIND THE OPTIMAL ESTIMATOR FOR YOUR DATA\n",
    "# 11. TRAIN AND TEST YOUR MODEL ON THE DATA\n",
    "# 12. RECLEAN, SCALE AND AND ENCODE INCOMING UNLABELED DATA USING SAME STEPS, SCALERS, ETC.\n",
    "# 13. INPUT YOUR SCALED, CLEANED ENCODED INCOMING DATA INTO YOUR MODEL"
   ]
  },
  {
   "cell_type": "code",
   "execution_count": 2,
   "metadata": {
    "collapsed": true
   },
   "outputs": [],
   "source": [
    "# Import libraries.\n",
    "import pandas as pd\n",
    "import numpy as np\n",
    "import seaborn as sns\n",
    "import matplotlib.pyplot as plt\n",
    "import datetime as dt\n",
    "\n",
    "from sklearn.cross_validation import train_test_split\n",
    "from sklearn.cross_validation import cross_val_score\n",
    "from sklearn.tree import DecisionTreeClassifier\n",
    "from sklearn.ensemble import AdaBoostClassifier\n",
    "from sklearn.ensemble import RandomForestClassifier\n",
    "from sklearn.ensemble import ExtraTreesClassifier\n",
    "from sklearn.decomposition import PCA\n",
    "from sklearn.neighbors import KNeighborsClassifier\n",
    "\n",
    "# from sklearn.svm import SVC\n",
    "# from sklearn.grid_search import GridSearchCV\n",
    "# from sklearn.metrics import classification_report\n",
    "\n",
    "%matplotlib inline"
   ]
  },
  {
   "cell_type": "code",
   "execution_count": 3,
   "metadata": {
    "collapsed": false
   },
   "outputs": [
    {
     "data": {
      "text/html": [
       "<div>\n",
       "<table border=\"1\" class=\"dataframe\">\n",
       "  <thead>\n",
       "    <tr style=\"text-align: right;\">\n",
       "      <th></th>\n",
       "      <th>id</th>\n",
       "      <th>date_account_created</th>\n",
       "      <th>timestamp_first_active</th>\n",
       "      <th>date_first_booking</th>\n",
       "      <th>gender</th>\n",
       "      <th>age</th>\n",
       "      <th>signup_method</th>\n",
       "      <th>signup_flow</th>\n",
       "      <th>language</th>\n",
       "      <th>affiliate_channel</th>\n",
       "      <th>affiliate_provider</th>\n",
       "      <th>first_affiliate_tracked</th>\n",
       "      <th>signup_app</th>\n",
       "      <th>first_device_type</th>\n",
       "      <th>first_browser</th>\n",
       "      <th>country_destination</th>\n",
       "    </tr>\n",
       "  </thead>\n",
       "  <tbody>\n",
       "    <tr>\n",
       "      <th>0</th>\n",
       "      <td>gxn3p5htnn</td>\n",
       "      <td>2010-06-28</td>\n",
       "      <td>20090319043255</td>\n",
       "      <td>NaN</td>\n",
       "      <td>-unknown-</td>\n",
       "      <td>NaN</td>\n",
       "      <td>facebook</td>\n",
       "      <td>0</td>\n",
       "      <td>en</td>\n",
       "      <td>direct</td>\n",
       "      <td>direct</td>\n",
       "      <td>untracked</td>\n",
       "      <td>Web</td>\n",
       "      <td>Mac Desktop</td>\n",
       "      <td>Chrome</td>\n",
       "      <td>NDF</td>\n",
       "    </tr>\n",
       "    <tr>\n",
       "      <th>1</th>\n",
       "      <td>820tgsjxq7</td>\n",
       "      <td>2011-05-25</td>\n",
       "      <td>20090523174809</td>\n",
       "      <td>NaN</td>\n",
       "      <td>MALE</td>\n",
       "      <td>38</td>\n",
       "      <td>facebook</td>\n",
       "      <td>0</td>\n",
       "      <td>en</td>\n",
       "      <td>seo</td>\n",
       "      <td>google</td>\n",
       "      <td>untracked</td>\n",
       "      <td>Web</td>\n",
       "      <td>Mac Desktop</td>\n",
       "      <td>Chrome</td>\n",
       "      <td>NDF</td>\n",
       "    </tr>\n",
       "    <tr>\n",
       "      <th>2</th>\n",
       "      <td>4ft3gnwmtx</td>\n",
       "      <td>2010-09-28</td>\n",
       "      <td>20090609231247</td>\n",
       "      <td>2010-08-02</td>\n",
       "      <td>FEMALE</td>\n",
       "      <td>56</td>\n",
       "      <td>basic</td>\n",
       "      <td>3</td>\n",
       "      <td>en</td>\n",
       "      <td>direct</td>\n",
       "      <td>direct</td>\n",
       "      <td>untracked</td>\n",
       "      <td>Web</td>\n",
       "      <td>Windows Desktop</td>\n",
       "      <td>IE</td>\n",
       "      <td>US</td>\n",
       "    </tr>\n",
       "    <tr>\n",
       "      <th>3</th>\n",
       "      <td>bjjt8pjhuk</td>\n",
       "      <td>2011-12-05</td>\n",
       "      <td>20091031060129</td>\n",
       "      <td>2012-09-08</td>\n",
       "      <td>FEMALE</td>\n",
       "      <td>42</td>\n",
       "      <td>facebook</td>\n",
       "      <td>0</td>\n",
       "      <td>en</td>\n",
       "      <td>direct</td>\n",
       "      <td>direct</td>\n",
       "      <td>untracked</td>\n",
       "      <td>Web</td>\n",
       "      <td>Mac Desktop</td>\n",
       "      <td>Firefox</td>\n",
       "      <td>other</td>\n",
       "    </tr>\n",
       "    <tr>\n",
       "      <th>4</th>\n",
       "      <td>87mebub9p4</td>\n",
       "      <td>2010-09-14</td>\n",
       "      <td>20091208061105</td>\n",
       "      <td>2010-02-18</td>\n",
       "      <td>-unknown-</td>\n",
       "      <td>41</td>\n",
       "      <td>basic</td>\n",
       "      <td>0</td>\n",
       "      <td>en</td>\n",
       "      <td>direct</td>\n",
       "      <td>direct</td>\n",
       "      <td>untracked</td>\n",
       "      <td>Web</td>\n",
       "      <td>Mac Desktop</td>\n",
       "      <td>Chrome</td>\n",
       "      <td>US</td>\n",
       "    </tr>\n",
       "  </tbody>\n",
       "</table>\n",
       "</div>"
      ],
      "text/plain": [
       "           id date_account_created  timestamp_first_active date_first_booking  \\\n",
       "0  gxn3p5htnn           2010-06-28          20090319043255                NaN   \n",
       "1  820tgsjxq7           2011-05-25          20090523174809                NaN   \n",
       "2  4ft3gnwmtx           2010-09-28          20090609231247         2010-08-02   \n",
       "3  bjjt8pjhuk           2011-12-05          20091031060129         2012-09-08   \n",
       "4  87mebub9p4           2010-09-14          20091208061105         2010-02-18   \n",
       "\n",
       "      gender  age signup_method  signup_flow language affiliate_channel  \\\n",
       "0  -unknown-  NaN      facebook            0       en            direct   \n",
       "1       MALE   38      facebook            0       en               seo   \n",
       "2     FEMALE   56         basic            3       en            direct   \n",
       "3     FEMALE   42      facebook            0       en            direct   \n",
       "4  -unknown-   41         basic            0       en            direct   \n",
       "\n",
       "  affiliate_provider first_affiliate_tracked signup_app first_device_type  \\\n",
       "0             direct               untracked        Web       Mac Desktop   \n",
       "1             google               untracked        Web       Mac Desktop   \n",
       "2             direct               untracked        Web   Windows Desktop   \n",
       "3             direct               untracked        Web       Mac Desktop   \n",
       "4             direct               untracked        Web       Mac Desktop   \n",
       "\n",
       "  first_browser country_destination  \n",
       "0        Chrome                 NDF  \n",
       "1        Chrome                 NDF  \n",
       "2            IE                  US  \n",
       "3       Firefox               other  \n",
       "4        Chrome                  US  "
      ]
     },
     "execution_count": 3,
     "metadata": {},
     "output_type": "execute_result"
    }
   ],
   "source": [
    "# Import Airbnb user data.\n",
    "df = pd.read_csv('C:\\\\Users\\\\nreitz\\\\GAdata\\\\Airbnb\\\\train_users_2.csv')\n",
    "df.head(5)"
   ]
  },
  {
   "cell_type": "code",
   "execution_count": 4,
   "metadata": {
    "collapsed": false
   },
   "outputs": [
    {
     "name": "stdout",
     "output_type": "stream",
     "text": [
      "<class 'pandas.core.frame.DataFrame'>\n",
      "Int64Index: 213451 entries, 0 to 213450\n",
      "Data columns (total 16 columns):\n",
      "id                         213451 non-null object\n",
      "date_account_created       213451 non-null object\n",
      "timestamp_first_active     213451 non-null int64\n",
      "date_first_booking         88908 non-null object\n",
      "gender                     213451 non-null object\n",
      "age                        125461 non-null float64\n",
      "signup_method              213451 non-null object\n",
      "signup_flow                213451 non-null int64\n",
      "language                   213451 non-null object\n",
      "affiliate_channel          213451 non-null object\n",
      "affiliate_provider         213451 non-null object\n",
      "first_affiliate_tracked    207386 non-null object\n",
      "signup_app                 213451 non-null object\n",
      "first_device_type          213451 non-null object\n",
      "first_browser              213451 non-null object\n",
      "country_destination        213451 non-null object\n",
      "dtypes: float64(1), int64(2), object(13)\n",
      "memory usage: 27.7+ MB\n"
     ]
    }
   ],
   "source": [
    "# Take a look at the series in the dataframe.\n",
    "df.info()"
   ]
  },
  {
   "cell_type": "code",
   "execution_count": 5,
   "metadata": {
    "collapsed": false
   },
   "outputs": [
    {
     "name": "stdout",
     "output_type": "stream",
     "text": [
      "id : ['gxn3p5htnn' '820tgsjxq7' '4ft3gnwmtx' ..., '6o3arsjbb4' 'jh95kwisub'\n",
      " 'nw9fwlyb5f']\n",
      "date_account_created : ['2010-06-28' '2011-05-25' '2010-09-28' ..., '2014-06-27' '2014-06-29'\n",
      " '2014-06-30']\n",
      "timestamp_first_active : [20090319043255 20090523174809 20090609231247 ..., 20140630235754\n",
      " 20140630235822 20140630235824]\n",
      "date_first_booking : [nan '2010-08-02' '2012-09-08' ..., '2015-06-25' '2015-06-29' '2015-06-28']\n",
      "gender : ['-unknown-' 'MALE' 'FEMALE' 'OTHER']\n",
      "age : [             nan   3.80000000e+01   5.60000000e+01   4.20000000e+01\n",
      "   4.10000000e+01   4.60000000e+01   4.70000000e+01   5.00000000e+01\n",
      "   3.60000000e+01   3.70000000e+01   3.30000000e+01   3.10000000e+01\n",
      "   2.90000000e+01   3.00000000e+01   4.00000000e+01   2.60000000e+01\n",
      "   3.20000000e+01   3.50000000e+01   5.90000000e+01   4.90000000e+01\n",
      "   4.40000000e+01   3.40000000e+01   2.80000000e+01   1.90000000e+01\n",
      "   5.30000000e+01   5.20000000e+01   3.90000000e+01   5.70000000e+01\n",
      "   2.50000000e+01   5.40000000e+01   6.90000000e+01   6.30000000e+01\n",
      "   4.30000000e+01   5.50000000e+01   6.50000000e+01   5.80000000e+01\n",
      "   6.10000000e+01   1.80000000e+01   5.00000000e+00   2.70000000e+01\n",
      "   4.50000000e+01   6.00000000e+01   4.80000000e+01   5.10000000e+01\n",
      "   6.40000000e+01   7.20000000e+01   7.00000000e+01   6.70000000e+01\n",
      "   7.30000000e+01   2.01400000e+03   1.04000000e+02   6.60000000e+01\n",
      "   1.05000000e+02   6.80000000e+01   9.50000000e+01   2.40000000e+01\n",
      "   9.40000000e+01   7.50000000e+01   7.90000000e+01   6.20000000e+01\n",
      "   2.01300000e+03   1.60000000e+01   4.00000000e+00   2.30000000e+01\n",
      "   1.01000000e+02   9.80000000e+01   7.60000000e+01   7.40000000e+01\n",
      "   8.70000000e+01   9.20000000e+01   1.15000000e+02   7.10000000e+01\n",
      "   8.40000000e+01   1.07000000e+02   7.80000000e+01   9.90000000e+01\n",
      "   1.10000000e+02   1.02000000e+02   8.20000000e+01   7.70000000e+01\n",
      "   2.20000000e+01   8.90000000e+01   2.10000000e+01   1.50000000e+01\n",
      "   2.00000000e+01   1.03000000e+02   2.00000000e+00   1.70000000e+01\n",
      "   8.60000000e+01   9.70000000e+01   8.10000000e+01   9.00000000e+01\n",
      "   8.80000000e+01   8.00000000e+01   1.00000000e+02   9.10000000e+01\n",
      "   1.06000000e+02   8.30000000e+01   8.50000000e+01   1.08000000e+02\n",
      "   1.13000000e+02   1.09000000e+02   9.30000000e+01   9.60000000e+01\n",
      "   1.94900000e+03   1.11000000e+02   1.93100000e+03   1.93200000e+03\n",
      "   1.12000000e+02   1.92800000e+03   1.00000000e+00   1.93600000e+03\n",
      "   1.93300000e+03   1.93500000e+03   1.92500000e+03   1.95200000e+03\n",
      "   1.50000000e+02   1.92700000e+03   1.32000000e+02   1.95300000e+03\n",
      "   1.94200000e+03   1.99500000e+03   2.00800000e+03   1.92400000e+03\n",
      "   1.92900000e+03   1.94700000e+03   1.93800000e+03   1.92600000e+03]\n",
      "signup_method : ['facebook' 'basic' 'google']\n",
      "signup_flow : [ 0  3  2  1 24  8  6  5 10 25 12  4 16 15 20 21 23]\n",
      "language : ['en' 'fr' 'de' 'es' 'it' 'pt' 'zh' 'ko' 'ja' 'ru' 'pl' 'el' 'sv' 'nl' 'hu'\n",
      " 'da' 'id' 'fi' 'no' 'tr' 'th' 'cs' 'hr' 'ca' 'is']\n",
      "affiliate_channel : ['direct' 'seo' 'other' 'sem-non-brand' 'content' 'sem-brand' 'remarketing'\n",
      " 'api']\n",
      "affiliate_provider : ['direct' 'google' 'other' 'craigslist' 'facebook' 'vast' 'bing' 'meetup'\n",
      " 'facebook-open-graph' 'email-marketing' 'yahoo' 'padmapper' 'gsp' 'wayn'\n",
      " 'naver' 'baidu' 'yandex' 'daum']\n",
      "first_affiliate_tracked : ['untracked' 'omg' nan 'linked' 'tracked-other' 'product' 'marketing'\n",
      " 'local ops']\n",
      "signup_app : ['Web' 'Moweb' 'iOS' 'Android']\n",
      "first_device_type : ['Mac Desktop' 'Windows Desktop' 'iPhone' 'Other/Unknown' 'Desktop (Other)'\n",
      " 'Android Tablet' 'iPad' 'Android Phone' 'SmartPhone (Other)']\n",
      "first_browser : ['Chrome' 'IE' 'Firefox' 'Safari' '-unknown-' 'Mobile Safari'\n",
      " 'Chrome Mobile' 'RockMelt' 'Chromium' 'Android Browser' 'AOL Explorer'\n",
      " 'Palm Pre web browser' 'Mobile Firefox' 'Opera' 'TenFourFox' 'IE Mobile'\n",
      " 'Apple Mail' 'Silk' 'Camino' 'Arora' 'BlackBerry Browser' 'SeaMonkey'\n",
      " 'Iron' 'Sogou Explorer' 'IceWeasel' 'Opera Mini' 'SiteKiosk' 'Maxthon'\n",
      " 'Kindle Browser' 'CoolNovo' 'Conkeror' 'wOSBrowser' 'Google Earth'\n",
      " 'Crazy Browser' 'Mozilla' 'OmniWeb' 'PS Vita browser' 'NetNewsWire'\n",
      " 'CometBird' 'Comodo Dragon' 'Flock' 'Pale Moon' 'Avant Browser'\n",
      " 'Opera Mobile' 'Yandex.Browser' 'TheWorld Browser' 'SlimBrowser' 'Epic'\n",
      " 'Stainless' 'Googlebot' 'Outlook 2007' 'IceDragon']\n",
      "country_destination : ['NDF' 'US' 'other' 'FR' 'CA' 'GB' 'ES' 'IT' 'PT' 'NL' 'DE' 'AU']\n"
     ]
    }
   ],
   "source": [
    "# Take a look at the values in each series.\n",
    "for col in df:\n",
    "    print col,':', df[col].unique()"
   ]
  },
  {
   "cell_type": "code",
   "execution_count": 6,
   "metadata": {
    "collapsed": false
   },
   "outputs": [
    {
     "data": {
      "text/plain": [
       "array(['NO BOOKING', 'US', 'OTHER', 'FR', 'CA', 'GB', 'ES', 'IT', 'PT',\n",
       "       'NL', 'DE', 'AU'], dtype=object)"
      ]
     },
     "execution_count": 6,
     "metadata": {},
     "output_type": "execute_result"
    }
   ],
   "source": [
    "\"\"\" Note from Airbnb: There are 12 possible outcomes of the destination country...\n",
    "'NDF' is different from 'other' because 'other' means there was a booking, but\n",
    "is to a country not included in the list, while 'NDF' means there wasn't a booking.\"\"\"\n",
    "\n",
    "# Replace 'NDF' with 'NO BOOKING' to make this clear in the dataframe. Clean up 'OTHER' too.\n",
    "df.country_destination.replace('NDF', 'NO BOOKING', inplace=True)\n",
    "df.country_destination.replace('other', 'OTHER', inplace=True)\n",
    "df.country_destination.unique()"
   ]
  },
  {
   "cell_type": "code",
   "execution_count": 7,
   "metadata": {
    "collapsed": false
   },
   "outputs": [
    {
     "name": "stdout",
     "output_type": "stream",
     "text": [
      "NO BOOKING    58.347349\n",
      "US            29.222632\n",
      "OTHER          4.728954\n",
      "FR             2.353233\n",
      "IT             1.328174\n",
      "GB             1.088774\n",
      "ES             1.053638\n",
      "CA             0.669006\n",
      "DE             0.497070\n",
      "NL             0.356991\n",
      "AU             0.252517\n",
      "PT             0.101663\n",
      "Name: country_destination, dtype: float64\n"
     ]
    },
    {
     "data": {
      "image/png": "[encoded data removed]",
      "text/plain": [
       "<matplotlib.figure.Figure at 0x1f7fdf28>"
      ]
     },
     "metadata": {},
     "output_type": "display_data"
    }
   ],
   "source": [
    "# Explore % bookings by country.\n",
    "destination_percentage = df.country_destination.value_counts() / df.shape[0] * 100\n",
    "destination_percentage.plot(kind='bar', figsize = (10,5))\n",
    "plt.xlabel('Destination Country')\n",
    "plt.ylabel('% of Total Bookings')\n",
    "\n",
    "print destination_percentage\n",
    "\n",
    "# Note that more than half of first-time users did not book a trip at all."
   ]
  },
  {
   "cell_type": "code",
   "execution_count": 8,
   "metadata": {
    "collapsed": false
   },
   "outputs": [
    {
     "data": {
      "text/plain": [
       "array(['UNKNOWN', 'MALE', 'FEMALE'], dtype=object)"
      ]
     },
     "execution_count": 8,
     "metadata": {},
     "output_type": "execute_result"
    }
   ],
   "source": [
    "# Replace '-unknown-' and 'OTHER' gender with 'UNKNOWN' to simplify data.\n",
    "df.gender.replace('-unknown-', 'UNKNOWN', inplace=True)\n",
    "df.gender.replace('OTHER', 'UNKNOWN', inplace=True)\n",
    "df.gender.unique()"
   ]
  },
  {
   "cell_type": "code",
   "execution_count": 9,
   "metadata": {
    "collapsed": false
   },
   "outputs": [
    {
     "name": "stdout",
     "output_type": "stream",
     "text": [
      "UNKNOWN    44.961139\n",
      "FEMALE     29.534179\n",
      "MALE       25.504683\n",
      "Name: gender, dtype: float64\n"
     ]
    },
    {
     "data": {
      "image/png": "[encoded data removed]",
      "text/plain": [
       "<matplotlib.figure.Figure at 0x2145e5f8>"
      ]
     },
     "metadata": {},
     "output_type": "display_data"
    }
   ],
   "source": [
    "# Explore user demos, starting with gender.\n",
    "gender_percentage = df.gender.value_counts() / df.shape[0] * 100\n",
    "gender_percentage.plot(kind='bar')\n",
    "plt.xlabel('Gender')\n",
    "plt.ylabel('% of Total')\n",
    "\n",
    "print gender_percentage\n",
    "\n",
    "# Nearly half of users are missing gender data."
   ]
  },
  {
   "cell_type": "code",
   "execution_count": 10,
   "metadata": {
    "collapsed": false
   },
   "outputs": [
    {
     "data": {
      "text/plain": [
       "count    125461.000000\n",
       "mean         49.668335\n",
       "std         155.666612\n",
       "min           1.000000\n",
       "25%          28.000000\n",
       "50%          34.000000\n",
       "75%          43.000000\n",
       "max        2014.000000\n",
       "Name: age, dtype: float64"
      ]
     },
     "execution_count": 10,
     "metadata": {},
     "output_type": "execute_result"
    }
   ],
   "source": [
    "# Check out user age.\n",
    "df.age.describe()\n",
    "\n",
    "# Note that there are clearly users with invalid age data--range goes from 1-2014!"
   ]
  },
  {
   "cell_type": "code",
   "execution_count": 11,
   "metadata": {
    "collapsed": false
   },
   "outputs": [
    {
     "data": {
      "text/plain": [
       "count    122915.000000\n",
       "mean         36.553570\n",
       "std          11.623755\n",
       "min          18.000000\n",
       "25%          28.000000\n",
       "50%          34.000000\n",
       "75%          42.000000\n",
       "max          98.000000\n",
       "Name: age, dtype: float64"
      ]
     },
     "execution_count": 11,
     "metadata": {},
     "output_type": "execute_result"
    }
   ],
   "source": [
    "# Recode anyone under 18 or 99+ to NaN (you must be 18+ to book on Airbnb).\n",
    "for age in df.age:\n",
    "    if age < 18 or age > 98:\n",
    "        df.age.replace([age], np.nan, inplace=True)\n",
    "        \n",
    "df.age.describe()"
   ]
  },
  {
   "cell_type": "code",
   "execution_count": 12,
   "metadata": {
    "collapsed": false
   },
   "outputs": [
    {
     "data": {
      "text/plain": [
       "<matplotlib.axes._subplots.AxesSubplot at 0x212a8f28>"
      ]
     },
     "execution_count": 12,
     "metadata": {},
     "output_type": "execute_result"
    },
    {
     "data": {
      "image/png": "[encoded data removed]",
      "text/plain": [
       "<matplotlib.figure.Figure at 0x212b4048>"
      ]
     },
     "metadata": {},
     "output_type": "display_data"
    }
   ],
   "source": [
    "# Plot age - looks like average user is around 30, which makes sense.\n",
    "df.age.hist(bins = 40, figsize = (10,5))"
   ]
  },
  {
   "cell_type": "code",
   "execution_count": 13,
   "metadata": {
    "collapsed": false
   },
   "outputs": [
    {
     "name": "stdout",
     "output_type": "stream",
     "text": [
      "36.5535695399 34.0\n"
     ]
    }
   ],
   "source": [
    "# Identify mean/median age.\n",
    "mean_age = df.age.mean(skipna=True)\n",
    "median_age = df.age.median(skipna=True)\n",
    "\n",
    "print mean_age, median_age"
   ]
  },
  {
   "cell_type": "code",
   "execution_count": 14,
   "metadata": {
    "collapsed": false
   },
   "outputs": [
    {
     "name": "stdout",
     "output_type": "stream",
     "text": [
      "<class 'pandas.core.frame.DataFrame'>\n",
      "Int64Index: 213451 entries, 0 to 213450\n",
      "Data columns (total 17 columns):\n",
      "id                         213451 non-null object\n",
      "date_account_created       213451 non-null object\n",
      "timestamp_first_active     213451 non-null int64\n",
      "date_first_booking         88908 non-null object\n",
      "gender                     213451 non-null object\n",
      "age                        122915 non-null float64\n",
      "signup_method              213451 non-null object\n",
      "signup_flow                213451 non-null int64\n",
      "language                   213451 non-null object\n",
      "affiliate_channel          213451 non-null object\n",
      "affiliate_provider         213451 non-null object\n",
      "first_affiliate_tracked    207386 non-null object\n",
      "signup_app                 213451 non-null object\n",
      "first_device_type          213451 non-null object\n",
      "first_browser              213451 non-null object\n",
      "country_destination        213451 non-null object\n",
      "age_fillna                 213451 non-null float64\n",
      "dtypes: float64(2), int64(2), object(13)\n",
      "memory usage: 29.3+ MB\n"
     ]
    }
   ],
   "source": [
    "\"\"\"Fill missing age values with median age. I decided to create a \n",
    "new column for this in case I wanted to come back later and regroup original \n",
    "age into categorical buckets with a 'None' category.\"\"\" \n",
    "\n",
    "df['age_fillna'] = df.age.fillna(value=34)\n",
    "df.info()"
   ]
  },
  {
   "cell_type": "code",
   "execution_count": 15,
   "metadata": {
    "collapsed": false
   },
   "outputs": [
    {
     "data": {
      "text/plain": [
       "en    206314\n",
       "zh      1632\n",
       "fr      1172\n",
       "es       915\n",
       "ko       747\n",
       "de       732\n",
       "it       514\n",
       "ru       389\n",
       "pt       240\n",
       "ja       225\n",
       "sv       122\n",
       "nl        97\n",
       "tr        64\n",
       "da        58\n",
       "pl        54\n",
       "cs        32\n",
       "no        30\n",
       "el        24\n",
       "th        24\n",
       "id        22\n",
       "hu        18\n",
       "fi        14\n",
       "is         5\n",
       "ca         5\n",
       "hr         2\n",
       "Name: language, dtype: int64"
      ]
     },
     "execution_count": 15,
     "metadata": {},
     "output_type": "execute_result"
    }
   ],
   "source": [
    "# Check out language used on site--this may be a useful parameter.\n",
    "# See language list at https://www.loc.gov/standards/iso639-2/php/code_list.php for reference\n",
    "\n",
    "df.language.value_counts()\n",
    "\n",
    "# Top languages used: English, Chinese, French, Spanish, Korean, German, Italian, Russian, Portuguese, Japanese, Swedish, Dutch"
   ]
  },
  {
   "cell_type": "code",
   "execution_count": 16,
   "metadata": {
    "collapsed": false
   },
   "outputs": [
    {
     "name": "stdout",
     "output_type": "stream",
     "text": [
      "en       96.656375\n",
      "zh        0.764578\n",
      "fr        0.549072\n",
      "es        0.428670\n",
      "ko        0.349963\n",
      "de        0.342936\n",
      "it        0.240805\n",
      "ru        0.182243\n",
      "other     0.164909\n",
      "pt        0.112438\n",
      "ja        0.105411\n",
      "sv        0.057156\n",
      "nl        0.045444\n",
      "Name: language, dtype: float64\n"
     ]
    },
    {
     "data": {
      "image/png": "[encoded data removed]",
      "text/plain": [
       "<matplotlib.figure.Figure at 0x229ed4e0>"
      ]
     },
     "metadata": {},
     "output_type": "display_data"
    }
   ],
   "source": [
    "# Recode low-incidence languages into 'Other'.\n",
    "# Note that Dutch is small, but I kept it because NL is one of the countries in which we want to predict bookings.\n",
    "top_languages = ['en','zh','fr','es','ko','de','it','ru','pt','ja','sv', 'nl']\n",
    "for lang in df.language:\n",
    "    if lang not in top_languages:\n",
    "        df.language.replace([lang], 'other', inplace=True)\n",
    "\n",
    "# Calculate % of users for each language.        \n",
    "language_percentage = df.language.value_counts() / df.shape[0] * 100\n",
    "language_percentage.plot(kind='bar', figsize = (10,5))\n",
    "plt.xlabel('Language')\n",
    "plt.ylabel('% of Total')\n",
    "\n",
    "print language_percentage\n",
    "\n",
    "# Note that almost all users use the English version of the site."
   ]
  },
  {
   "cell_type": "code",
   "execution_count": 17,
   "metadata": {
    "collapsed": false
   },
   "outputs": [
    {
     "name": "stdout",
     "output_type": "stream",
     "text": [
      "0        2010-06-28\n",
      "1        2011-05-25\n",
      "2        2010-09-28\n",
      "3        2011-12-05\n",
      "4        2010-09-14\n",
      "5        2010-01-01\n",
      "6        2010-01-02\n",
      "7        2010-01-03\n",
      "8        2010-01-04\n",
      "9        2010-01-04\n",
      "10       2010-01-04\n",
      "11       2010-01-05\n",
      "12       2010-01-05\n",
      "13       2010-01-05\n",
      "14       2010-01-07\n",
      "15       2010-01-07\n",
      "16       2010-01-07\n",
      "17       2010-01-07\n",
      "18       2010-01-08\n",
      "19       2010-01-10\n",
      "20       2010-01-10\n",
      "21       2010-01-10\n",
      "22       2010-01-11\n",
      "23       2010-01-11\n",
      "24       2010-01-11\n",
      "25       2010-01-12\n",
      "26       2010-01-12\n",
      "27       2010-01-12\n",
      "28       2010-01-13\n",
      "29       2010-01-13\n",
      "            ...    \n",
      "213421   2014-06-30\n",
      "213422   2014-06-30\n",
      "213423   2014-06-30\n",
      "213424   2014-06-30\n",
      "213425   2014-06-30\n",
      "213426   2014-06-30\n",
      "213427   2014-06-30\n",
      "213428   2014-06-30\n",
      "213429   2014-06-30\n",
      "213430   2014-06-30\n",
      "213431   2014-06-30\n",
      "213432   2014-06-30\n",
      "213433   2014-06-30\n",
      "213434   2014-06-30\n",
      "213435   2014-06-30\n",
      "213436   2014-06-30\n",
      "213437   2014-06-30\n",
      "213438   2014-06-30\n",
      "213439   2014-06-30\n",
      "213440   2014-06-30\n",
      "213441   2014-06-30\n",
      "213442   2014-06-30\n",
      "213443   2014-06-30\n",
      "213444   2014-06-30\n",
      "213445   2014-06-30\n",
      "213446   2014-06-30\n",
      "213447   2014-06-30\n",
      "213448   2014-06-30\n",
      "213449   2014-06-30\n",
      "213450   2014-06-30\n",
      "Name: date_account_created, dtype: datetime64[ns]\n"
     ]
    }
   ],
   "source": [
    "\"\"\"Use 'to_datetime' function to convert date_account_created, date_first_booking, \n",
    "and timestamp_first_active to datetime format. I suspect that month might be a useful feature \n",
    "for exploring seasonality, so once converted I'll extract the month from each.\"\"\"\n",
    "\n",
    "date_account_created = pd.to_datetime(df['date_account_created'])\n",
    "print date_account_created"
   ]
  },
  {
   "cell_type": "code",
   "execution_count": 18,
   "metadata": {
    "collapsed": false
   },
   "outputs": [
    {
     "name": "stdout",
     "output_type": "stream",
     "text": [
      "0          6\n",
      "1          5\n",
      "2          9\n",
      "3         12\n",
      "4          9\n",
      "5          1\n",
      "6          1\n",
      "7          1\n",
      "8          1\n",
      "9          1\n",
      "10         1\n",
      "11         1\n",
      "12         1\n",
      "13         1\n",
      "14         1\n",
      "15         1\n",
      "16         1\n",
      "17         1\n",
      "18         1\n",
      "19         1\n",
      "20         1\n",
      "21         1\n",
      "22         1\n",
      "23         1\n",
      "24         1\n",
      "25         1\n",
      "26         1\n",
      "27         1\n",
      "28         1\n",
      "29         1\n",
      "          ..\n",
      "213421     6\n",
      "213422     6\n",
      "213423     6\n",
      "213424     6\n",
      "213425     6\n",
      "213426     6\n",
      "213427     6\n",
      "213428     6\n",
      "213429     6\n",
      "213430     6\n",
      "213431     6\n",
      "213432     6\n",
      "213433     6\n",
      "213434     6\n",
      "213435     6\n",
      "213436     6\n",
      "213437     6\n",
      "213438     6\n",
      "213439     6\n",
      "213440     6\n",
      "213441     6\n",
      "213442     6\n",
      "213443     6\n",
      "213444     6\n",
      "213445     6\n",
      "213446     6\n",
      "213447     6\n",
      "213448     6\n",
      "213449     6\n",
      "213450     6\n",
      "Name: month_account_created, dtype: int64\n"
     ]
    }
   ],
   "source": [
    "# Create a series for month in which account was created.\n",
    "df['month_account_created'] = date_account_created.dt.month\n",
    "print df.month_account_created\n"
   ]
  },
  {
   "cell_type": "code",
   "execution_count": 19,
   "metadata": {
    "collapsed": false
   },
   "outputs": [
    {
     "name": "stdout",
     "output_type": "stream",
     "text": [
      "0               NaT\n",
      "1               NaT\n",
      "2        2010-08-02\n",
      "3        2012-09-08\n",
      "4        2010-02-18\n",
      "5        2010-01-02\n",
      "6        2010-01-05\n",
      "7        2010-01-13\n",
      "8        2010-07-29\n",
      "9        2010-01-04\n",
      "10       2010-01-06\n",
      "11              NaT\n",
      "12       2010-01-18\n",
      "13              NaT\n",
      "14              NaT\n",
      "15       2010-01-08\n",
      "16              NaT\n",
      "17       2010-01-09\n",
      "18              NaT\n",
      "19       2010-01-10\n",
      "20       2010-01-18\n",
      "21       2010-01-11\n",
      "22       2010-01-11\n",
      "23              NaT\n",
      "24              NaT\n",
      "25       2010-01-15\n",
      "26              NaT\n",
      "27       2010-01-22\n",
      "28       2010-01-13\n",
      "29       2010-01-19\n",
      "            ...    \n",
      "213421          NaT\n",
      "213422          NaT\n",
      "213423          NaT\n",
      "213424          NaT\n",
      "213425          NaT\n",
      "213426          NaT\n",
      "213427          NaT\n",
      "213428          NaT\n",
      "213429          NaT\n",
      "213430          NaT\n",
      "213431          NaT\n",
      "213432          NaT\n",
      "213433          NaT\n",
      "213434          NaT\n",
      "213435          NaT\n",
      "213436          NaT\n",
      "213437          NaT\n",
      "213438          NaT\n",
      "213439   2015-03-16\n",
      "213440          NaT\n",
      "213441   2014-08-13\n",
      "213442          NaT\n",
      "213443   2014-07-13\n",
      "213444          NaT\n",
      "213445   2014-07-02\n",
      "213446          NaT\n",
      "213447          NaT\n",
      "213448          NaT\n",
      "213449          NaT\n",
      "213450          NaT\n",
      "Name: date_first_booking, dtype: datetime64[ns]\n"
     ]
    }
   ],
   "source": [
    "# Convert date_first_booking to datetime. As seen above, many users did not book at all.\n",
    "date_first_booking = pd.to_datetime(df['date_first_booking'])\n",
    "print date_first_booking"
   ]
  },
  {
   "cell_type": "code",
   "execution_count": 20,
   "metadata": {
    "collapsed": false
   },
   "outputs": [
    {
     "name": "stdout",
     "output_type": "stream",
     "text": [
      "0         None\n",
      "1         None\n",
      "2            8\n",
      "3            9\n",
      "4            2\n",
      "5            1\n",
      "6            1\n",
      "7            1\n",
      "8            7\n",
      "9            1\n",
      "10           1\n",
      "11        None\n",
      "12           1\n",
      "13        None\n",
      "14        None\n",
      "15           1\n",
      "16        None\n",
      "17           1\n",
      "18        None\n",
      "19           1\n",
      "20           1\n",
      "21           1\n",
      "22           1\n",
      "23        None\n",
      "24        None\n",
      "25           1\n",
      "26        None\n",
      "27           1\n",
      "28           1\n",
      "29           1\n",
      "          ... \n",
      "213421    None\n",
      "213422    None\n",
      "213423    None\n",
      "213424    None\n",
      "213425    None\n",
      "213426    None\n",
      "213427    None\n",
      "213428    None\n",
      "213429    None\n",
      "213430    None\n",
      "213431    None\n",
      "213432    None\n",
      "213433    None\n",
      "213434    None\n",
      "213435    None\n",
      "213436    None\n",
      "213437    None\n",
      "213438    None\n",
      "213439       3\n",
      "213440    None\n",
      "213441       8\n",
      "213442    None\n",
      "213443       7\n",
      "213444    None\n",
      "213445       7\n",
      "213446    None\n",
      "213447    None\n",
      "213448    None\n",
      "213449    None\n",
      "213450    None\n",
      "Name: month_first_booking, dtype: object\n"
     ]
    }
   ],
   "source": [
    "# Create a series for month in which first booking was made and fill NAs.\n",
    "df['month_first_booking'] = date_first_booking.dt.month\n",
    "df.month_first_booking.replace('NaN', 'None', inplace=True)\n",
    "print df.month_first_booking"
   ]
  },
  {
   "cell_type": "code",
   "execution_count": 21,
   "metadata": {
    "collapsed": false
   },
   "outputs": [
    {
     "name": "stdout",
     "output_type": "stream",
     "text": [
      "0        1970-01-01 05:34:50.319043255\n",
      "1        1970-01-01 05:34:50.523174809\n",
      "2        1970-01-01 05:34:50.609231247\n",
      "3        1970-01-01 05:34:51.031060129\n",
      "4        1970-01-01 05:34:51.208061105\n",
      "5        1970-01-01 05:35:00.101215619\n",
      "6        1970-01-01 05:35:00.102012558\n",
      "7        1970-01-01 05:35:00.103191905\n",
      "8        1970-01-01 05:35:00.104004211\n",
      "9        1970-01-01 05:35:00.104023758\n",
      "10       1970-01-01 05:35:00.104194251\n",
      "11       1970-01-01 05:35:00.105051812\n",
      "12       1970-01-01 05:35:00.105060859\n",
      "13       1970-01-01 05:35:00.105083259\n",
      "14       1970-01-01 05:35:00.107055820\n",
      "15       1970-01-01 05:35:00.107204555\n",
      "16       1970-01-01 05:35:00.107215125\n",
      "17       1970-01-01 05:35:00.107224625\n",
      "18       1970-01-01 05:35:00.108015641\n",
      "19       1970-01-01 05:35:00.110010817\n",
      "20       1970-01-01 05:35:00.110152120\n",
      "21       1970-01-01 05:35:00.110220941\n",
      "22       1970-01-01 05:35:00.111031438\n",
      "23       1970-01-01 05:35:00.111224015\n",
      "24       1970-01-01 05:35:00.111230808\n",
      "25       1970-01-01 05:35:00.112131444\n",
      "26       1970-01-01 05:35:00.112155420\n",
      "27       1970-01-01 05:35:00.112205949\n",
      "28       1970-01-01 05:35:00.113044650\n",
      "29       1970-01-01 05:35:00.113064333\n",
      "                      ...             \n",
      "213421   1970-01-01 05:35:40.630231137\n",
      "213422   1970-01-01 05:35:40.630231246\n",
      "213423   1970-01-01 05:35:40.630231548\n",
      "213424   1970-01-01 05:35:40.630231859\n",
      "213425   1970-01-01 05:35:40.630232119\n",
      "213426   1970-01-01 05:35:40.630232331\n",
      "213427   1970-01-01 05:35:40.630232539\n",
      "213428   1970-01-01 05:35:40.630232634\n",
      "213429   1970-01-01 05:35:40.630232712\n",
      "213430   1970-01-01 05:35:40.630233132\n",
      "213431   1970-01-01 05:35:40.630233203\n",
      "213432   1970-01-01 05:35:40.630233224\n",
      "213433   1970-01-01 05:35:40.630233427\n",
      "213434   1970-01-01 05:35:40.630233640\n",
      "213435   1970-01-01 05:35:40.630233851\n",
      "213436   1970-01-01 05:35:40.630234113\n",
      "213437   1970-01-01 05:35:40.630234243\n",
      "213438   1970-01-01 05:35:40.630234429\n",
      "213439   1970-01-01 05:35:40.630234729\n",
      "213440   1970-01-01 05:35:40.630234933\n",
      "213441   1970-01-01 05:35:40.630235151\n",
      "213442   1970-01-01 05:35:40.630235309\n",
      "213443   1970-01-01 05:35:40.630235340\n",
      "213444   1970-01-01 05:35:40.630235352\n",
      "213445   1970-01-01 05:35:40.630235547\n",
      "213446   1970-01-01 05:35:40.630235636\n",
      "213447   1970-01-01 05:35:40.630235719\n",
      "213448   1970-01-01 05:35:40.630235754\n",
      "213449   1970-01-01 05:35:40.630235822\n",
      "213450   1970-01-01 05:35:40.630235824\n",
      "Name: timestamp_first_active, dtype: datetime64[ns]\n"
     ]
    }
   ],
   "source": [
    "\"\"\"I had some trouble with the timestamp_first_active series. \n",
    "I decided to leave it out of my model for the time being.\n",
    "Any idea what's going on here? If I run the code for any one entry, it works just fine\n",
    "but somehow whole series just spits out 1970-01-01...\"\"\"\n",
    "\n",
    "timestamp_first_active = pd.to_datetime(df['timestamp_first_active'])\n",
    "print timestamp_first_active"
   ]
  },
  {
   "cell_type": "code",
   "execution_count": 22,
   "metadata": {
    "collapsed": false
   },
   "outputs": [
    {
     "name": "stdout",
     "output_type": "stream",
     "text": [
      "<class 'pandas.core.frame.DataFrame'>\n",
      "Int64Index: 213451 entries, 0 to 213450\n",
      "Data columns (total 19 columns):\n",
      "id                         213451 non-null object\n",
      "date_account_created       213451 non-null object\n",
      "timestamp_first_active     213451 non-null int64\n",
      "date_first_booking         88908 non-null object\n",
      "gender                     213451 non-null object\n",
      "age                        122915 non-null float64\n",
      "signup_method              213451 non-null object\n",
      "signup_flow                213451 non-null int64\n",
      "language                   213451 non-null object\n",
      "affiliate_channel          213451 non-null object\n",
      "affiliate_provider         213451 non-null object\n",
      "first_affiliate_tracked    213451 non-null object\n",
      "signup_app                 213451 non-null object\n",
      "first_device_type          213451 non-null object\n",
      "first_browser              213451 non-null object\n",
      "country_destination        213451 non-null object\n",
      "age_fillna                 213451 non-null float64\n",
      "month_account_created      213451 non-null int64\n",
      "month_first_booking        213451 non-null object\n",
      "dtypes: float64(2), int64(3), object(14)\n",
      "memory usage: 32.6+ MB\n"
     ]
    }
   ],
   "source": [
    "# Just one more column with missing data to fill!\n",
    "df.first_affiliate_tracked.fillna(value = 'no_info', inplace=True)\n",
    "df.info()"
   ]
  },
  {
   "cell_type": "code",
   "execution_count": 23,
   "metadata": {
    "collapsed": true
   },
   "outputs": [],
   "source": [
    "# Lots of categorical data! Create dummy features for all of them, dropping one column per set of dummy features.\n",
    "\n",
    "dummies_gender = pd.get_dummies(df.gender, prefix = 'gender').ix[:, 1:]\n",
    "dummies_month_first_booking = pd.get_dummies(df.month_first_booking, prefix = 'month_fb').ix[:, 1:]\n",
    "dummies_month_account_created = pd.get_dummies(df.month_account_created, prefix = 'month_ac').ix[:, 1:]\n",
    "dummies_signup_method = pd.get_dummies(df.signup_method, prefix = 'signup_method').ix[:, 1:]\n",
    "dummies_signup_flow = pd.get_dummies(df.signup_flow, prefix = 'signup_flow').ix[:, 1:]\n",
    "dummies_language = pd.get_dummies(df.language, prefix = 'lang').ix[:, 1:]\n",
    "dummies_affiliate_channel = pd.get_dummies(df.affiliate_channel, prefix = 'aff_chan').ix[:, 1:]\n",
    "dummies_affiliate_provider = pd.get_dummies(df.affiliate_provider, prefix = 'aff_prov').ix[:, 1:]\n",
    "dummies_first_affiliate_tracked = pd.get_dummies(df.first_affiliate_tracked, prefix = 'first_at').ix[:, 1:]\n",
    "dummies_signup_app = pd.get_dummies(df.signup_app, prefix = 'signup_app').ix[:, 1:]\n",
    "dummies_first_device_type = pd.get_dummies(df.first_device_type, prefix = 'dev_type').ix[:, 1:]\n",
    "dummies_first_browser = pd.get_dummies(df.first_browser, prefix = 'browser').ix[:, 1:]\n"
   ]
  },
  {
   "cell_type": "code",
   "execution_count": 24,
   "metadata": {
    "collapsed": false
   },
   "outputs": [
    {
     "name": "stdout",
     "output_type": "stream",
     "text": [
      "<class 'pandas.core.frame.DataFrame'>\n",
      "Int64Index: 213451 entries, 0 to 213450\n",
      "Columns: 150 entries, country_destination to browser_wOSBrowser\n",
      "dtypes: float64(149), object(1)\n",
      "memory usage: 245.9+ MB\n"
     ]
    }
   ],
   "source": [
    "# Merge the feature I want to predict, age feature, and all dummies into a new data frame.\n",
    "\n",
    "df2 = pd.concat([df.country_destination, df.age_fillna, dummies_gender, dummies_month_first_booking, dummies_month_account_created, \n",
    "    dummies_signup_method, dummies_signup_flow, dummies_language, dummies_affiliate_channel, dummies_affiliate_provider,\n",
    "    dummies_first_affiliate_tracked, dummies_signup_app, dummies_first_device_type, dummies_first_browser], axis=1)\n",
    "\n",
    "df2.info()"
   ]
  },
  {
   "cell_type": "code",
   "execution_count": 25,
   "metadata": {
    "collapsed": true
   },
   "outputs": [],
   "source": [
    "# Define X (features) and y (target variable) for modeling:\n",
    "X = df2.ix[:, 1:]\n",
    "y = df2.country_destination\n",
    "\n",
    "# Train/Test Split!\n",
    "X_train, X_test, y_train, y_test = train_test_split(X, y, random_state=1)\n"
   ]
  },
  {
   "cell_type": "code",
   "execution_count": 26,
   "metadata": {
    "collapsed": false
   },
   "outputs": [
    {
     "data": {
      "text/plain": [
       "DecisionTreeClassifier(class_weight=None, criterion='gini', max_depth=4,\n",
       "            max_features=None, max_leaf_nodes=None, min_samples_leaf=1,\n",
       "            min_samples_split=2, min_weight_fraction_leaf=0.0,\n",
       "            random_state=1, splitter='best')"
      ]
     },
     "execution_count": 26,
     "metadata": {},
     "output_type": "execute_result"
    }
   ],
   "source": [
    "# BUILD A DECISION TREE CLASSIFIER\n",
    "dtc = DecisionTreeClassifier(max_depth=4, random_state=1)\n",
    "dtc.fit(X_train, y_train)\n",
    "\n",
    "# Note that I tested a few options and had the most success with max_depth=4."
   ]
  },
  {
   "cell_type": "code",
   "execution_count": 27,
   "metadata": {
    "collapsed": false
   },
   "outputs": [
    {
     "data": {
      "text/plain": [
       "array([ 0.87566405,  0.87568692,  0.87525651])"
      ]
     },
     "execution_count": 27,
     "metadata": {},
     "output_type": "execute_result"
    }
   ],
   "source": [
    "# Check success of initial decision tree model.\n",
    "cross_val_score(dtc, X, y)"
   ]
  },
  {
   "cell_type": "code",
   "execution_count": 28,
   "metadata": {
    "collapsed": false
   },
   "outputs": [
    {
     "data": {
      "text/html": [
       "<div>\n",
       "<table border=\"1\" class=\"dataframe\">\n",
       "  <thead>\n",
       "    <tr style=\"text-align: right;\">\n",
       "      <th></th>\n",
       "      <th>feature</th>\n",
       "      <th>importance</th>\n",
       "    </tr>\n",
       "  </thead>\n",
       "  <tbody>\n",
       "    <tr>\n",
       "      <th>14</th>\n",
       "      <td>month_fb_None</td>\n",
       "      <td>0.997933</td>\n",
       "    </tr>\n",
       "    <tr>\n",
       "      <th>58</th>\n",
       "      <td>aff_chan_other</td>\n",
       "      <td>0.000841</td>\n",
       "    </tr>\n",
       "    <tr>\n",
       "      <th>88</th>\n",
       "      <td>signup_app_Web</td>\n",
       "      <td>0.000635</td>\n",
       "    </tr>\n",
       "    <tr>\n",
       "      <th>61</th>\n",
       "      <td>aff_chan_sem-non-brand</td>\n",
       "      <td>0.000341</td>\n",
       "    </tr>\n",
       "    <tr>\n",
       "      <th>87</th>\n",
       "      <td>signup_app_Moweb</td>\n",
       "      <td>0.000102</td>\n",
       "    </tr>\n",
       "    <tr>\n",
       "      <th>64</th>\n",
       "      <td>aff_prov_craigslist</td>\n",
       "      <td>0.000071</td>\n",
       "    </tr>\n",
       "    <tr>\n",
       "      <th>50</th>\n",
       "      <td>lang_nl</td>\n",
       "      <td>0.000040</td>\n",
       "    </tr>\n",
       "    <tr>\n",
       "      <th>69</th>\n",
       "      <td>aff_prov_facebook-open-graph</td>\n",
       "      <td>0.000038</td>\n",
       "    </tr>\n",
       "    <tr>\n",
       "      <th>98</th>\n",
       "      <td>browser_AOL Explorer</td>\n",
       "      <td>0.000000</td>\n",
       "    </tr>\n",
       "    <tr>\n",
       "      <th>99</th>\n",
       "      <td>browser_Android Browser</td>\n",
       "      <td>0.000000</td>\n",
       "    </tr>\n",
       "    <tr>\n",
       "      <th>100</th>\n",
       "      <td>browser_Apple Mail</td>\n",
       "      <td>0.000000</td>\n",
       "    </tr>\n",
       "    <tr>\n",
       "      <th>101</th>\n",
       "      <td>browser_Arora</td>\n",
       "      <td>0.000000</td>\n",
       "    </tr>\n",
       "    <tr>\n",
       "      <th>0</th>\n",
       "      <td>age_fillna</td>\n",
       "      <td>0.000000</td>\n",
       "    </tr>\n",
       "    <tr>\n",
       "      <th>102</th>\n",
       "      <td>browser_Avant Browser</td>\n",
       "      <td>0.000000</td>\n",
       "    </tr>\n",
       "    <tr>\n",
       "      <th>96</th>\n",
       "      <td>dev_type_iPad</td>\n",
       "      <td>0.000000</td>\n",
       "    </tr>\n",
       "    <tr>\n",
       "      <th>103</th>\n",
       "      <td>browser_BlackBerry Browser</td>\n",
       "      <td>0.000000</td>\n",
       "    </tr>\n",
       "    <tr>\n",
       "      <th>104</th>\n",
       "      <td>browser_Camino</td>\n",
       "      <td>0.000000</td>\n",
       "    </tr>\n",
       "    <tr>\n",
       "      <th>105</th>\n",
       "      <td>browser_Chrome</td>\n",
       "      <td>0.000000</td>\n",
       "    </tr>\n",
       "    <tr>\n",
       "      <th>106</th>\n",
       "      <td>browser_Chrome Mobile</td>\n",
       "      <td>0.000000</td>\n",
       "    </tr>\n",
       "    <tr>\n",
       "      <th>107</th>\n",
       "      <td>browser_Chromium</td>\n",
       "      <td>0.000000</td>\n",
       "    </tr>\n",
       "    <tr>\n",
       "      <th>108</th>\n",
       "      <td>browser_CometBird</td>\n",
       "      <td>0.000000</td>\n",
       "    </tr>\n",
       "    <tr>\n",
       "      <th>109</th>\n",
       "      <td>browser_Comodo Dragon</td>\n",
       "      <td>0.000000</td>\n",
       "    </tr>\n",
       "    <tr>\n",
       "      <th>97</th>\n",
       "      <td>dev_type_iPhone</td>\n",
       "      <td>0.000000</td>\n",
       "    </tr>\n",
       "    <tr>\n",
       "      <th>93</th>\n",
       "      <td>dev_type_Other/Unknown</td>\n",
       "      <td>0.000000</td>\n",
       "    </tr>\n",
       "    <tr>\n",
       "      <th>95</th>\n",
       "      <td>dev_type_Windows Desktop</td>\n",
       "      <td>0.000000</td>\n",
       "    </tr>\n",
       "    <tr>\n",
       "      <th>94</th>\n",
       "      <td>dev_type_SmartPhone (Other)</td>\n",
       "      <td>0.000000</td>\n",
       "    </tr>\n",
       "    <tr>\n",
       "      <th>111</th>\n",
       "      <td>browser_CoolNovo</td>\n",
       "      <td>0.000000</td>\n",
       "    </tr>\n",
       "    <tr>\n",
       "      <th>92</th>\n",
       "      <td>dev_type_Mac Desktop</td>\n",
       "      <td>0.000000</td>\n",
       "    </tr>\n",
       "    <tr>\n",
       "      <th>91</th>\n",
       "      <td>dev_type_Desktop (Other)</td>\n",
       "      <td>0.000000</td>\n",
       "    </tr>\n",
       "    <tr>\n",
       "      <th>90</th>\n",
       "      <td>dev_type_Android Tablet</td>\n",
       "      <td>0.000000</td>\n",
       "    </tr>\n",
       "    <tr>\n",
       "      <th>...</th>\n",
       "      <td>...</td>\n",
       "      <td>...</td>\n",
       "    </tr>\n",
       "    <tr>\n",
       "      <th>63</th>\n",
       "      <td>aff_prov_bing</td>\n",
       "      <td>0.000000</td>\n",
       "    </tr>\n",
       "    <tr>\n",
       "      <th>65</th>\n",
       "      <td>aff_prov_daum</td>\n",
       "      <td>0.000000</td>\n",
       "    </tr>\n",
       "    <tr>\n",
       "      <th>66</th>\n",
       "      <td>aff_prov_direct</td>\n",
       "      <td>0.000000</td>\n",
       "    </tr>\n",
       "    <tr>\n",
       "      <th>68</th>\n",
       "      <td>aff_prov_facebook</td>\n",
       "      <td>0.000000</td>\n",
       "    </tr>\n",
       "    <tr>\n",
       "      <th>56</th>\n",
       "      <td>aff_chan_content</td>\n",
       "      <td>0.000000</td>\n",
       "    </tr>\n",
       "    <tr>\n",
       "      <th>70</th>\n",
       "      <td>aff_prov_google</td>\n",
       "      <td>0.000000</td>\n",
       "    </tr>\n",
       "    <tr>\n",
       "      <th>71</th>\n",
       "      <td>aff_prov_gsp</td>\n",
       "      <td>0.000000</td>\n",
       "    </tr>\n",
       "    <tr>\n",
       "      <th>72</th>\n",
       "      <td>aff_prov_meetup</td>\n",
       "      <td>0.000000</td>\n",
       "    </tr>\n",
       "    <tr>\n",
       "      <th>73</th>\n",
       "      <td>aff_prov_naver</td>\n",
       "      <td>0.000000</td>\n",
       "    </tr>\n",
       "    <tr>\n",
       "      <th>1</th>\n",
       "      <td>gender_MALE</td>\n",
       "      <td>0.000000</td>\n",
       "    </tr>\n",
       "    <tr>\n",
       "      <th>75</th>\n",
       "      <td>aff_prov_padmapper</td>\n",
       "      <td>0.000000</td>\n",
       "    </tr>\n",
       "    <tr>\n",
       "      <th>57</th>\n",
       "      <td>aff_chan_direct</td>\n",
       "      <td>0.000000</td>\n",
       "    </tr>\n",
       "    <tr>\n",
       "      <th>55</th>\n",
       "      <td>lang_zh</td>\n",
       "      <td>0.000000</td>\n",
       "    </tr>\n",
       "    <tr>\n",
       "      <th>38</th>\n",
       "      <td>signup_flow_16</td>\n",
       "      <td>0.000000</td>\n",
       "    </tr>\n",
       "    <tr>\n",
       "      <th>45</th>\n",
       "      <td>lang_es</td>\n",
       "      <td>0.000000</td>\n",
       "    </tr>\n",
       "    <tr>\n",
       "      <th>39</th>\n",
       "      <td>signup_flow_20</td>\n",
       "      <td>0.000000</td>\n",
       "    </tr>\n",
       "    <tr>\n",
       "      <th>40</th>\n",
       "      <td>signup_flow_21</td>\n",
       "      <td>0.000000</td>\n",
       "    </tr>\n",
       "    <tr>\n",
       "      <th>41</th>\n",
       "      <td>signup_flow_23</td>\n",
       "      <td>0.000000</td>\n",
       "    </tr>\n",
       "    <tr>\n",
       "      <th>42</th>\n",
       "      <td>signup_flow_24</td>\n",
       "      <td>0.000000</td>\n",
       "    </tr>\n",
       "    <tr>\n",
       "      <th>43</th>\n",
       "      <td>signup_flow_25</td>\n",
       "      <td>0.000000</td>\n",
       "    </tr>\n",
       "    <tr>\n",
       "      <th>44</th>\n",
       "      <td>lang_en</td>\n",
       "      <td>0.000000</td>\n",
       "    </tr>\n",
       "    <tr>\n",
       "      <th>46</th>\n",
       "      <td>lang_fr</td>\n",
       "      <td>0.000000</td>\n",
       "    </tr>\n",
       "    <tr>\n",
       "      <th>54</th>\n",
       "      <td>lang_sv</td>\n",
       "      <td>0.000000</td>\n",
       "    </tr>\n",
       "    <tr>\n",
       "      <th>47</th>\n",
       "      <td>lang_it</td>\n",
       "      <td>0.000000</td>\n",
       "    </tr>\n",
       "    <tr>\n",
       "      <th>48</th>\n",
       "      <td>lang_ja</td>\n",
       "      <td>0.000000</td>\n",
       "    </tr>\n",
       "    <tr>\n",
       "      <th>49</th>\n",
       "      <td>lang_ko</td>\n",
       "      <td>0.000000</td>\n",
       "    </tr>\n",
       "    <tr>\n",
       "      <th>51</th>\n",
       "      <td>lang_other</td>\n",
       "      <td>0.000000</td>\n",
       "    </tr>\n",
       "    <tr>\n",
       "      <th>52</th>\n",
       "      <td>lang_pt</td>\n",
       "      <td>0.000000</td>\n",
       "    </tr>\n",
       "    <tr>\n",
       "      <th>53</th>\n",
       "      <td>lang_ru</td>\n",
       "      <td>0.000000</td>\n",
       "    </tr>\n",
       "    <tr>\n",
       "      <th>148</th>\n",
       "      <td>browser_wOSBrowser</td>\n",
       "      <td>0.000000</td>\n",
       "    </tr>\n",
       "  </tbody>\n",
       "</table>\n",
       "<p>149 rows × 2 columns</p>\n",
       "</div>"
      ],
      "text/plain": [
       "                          feature  importance\n",
       "14                  month_fb_None    0.997933\n",
       "58                 aff_chan_other    0.000841\n",
       "88                 signup_app_Web    0.000635\n",
       "61         aff_chan_sem-non-brand    0.000341\n",
       "87               signup_app_Moweb    0.000102\n",
       "64            aff_prov_craigslist    0.000071\n",
       "50                        lang_nl    0.000040\n",
       "69   aff_prov_facebook-open-graph    0.000038\n",
       "98           browser_AOL Explorer    0.000000\n",
       "99        browser_Android Browser    0.000000\n",
       "100            browser_Apple Mail    0.000000\n",
       "101                 browser_Arora    0.000000\n",
       "0                      age_fillna    0.000000\n",
       "102         browser_Avant Browser    0.000000\n",
       "96                  dev_type_iPad    0.000000\n",
       "103    browser_BlackBerry Browser    0.000000\n",
       "104                browser_Camino    0.000000\n",
       "105                browser_Chrome    0.000000\n",
       "106         browser_Chrome Mobile    0.000000\n",
       "107              browser_Chromium    0.000000\n",
       "108             browser_CometBird    0.000000\n",
       "109         browser_Comodo Dragon    0.000000\n",
       "97                dev_type_iPhone    0.000000\n",
       "93         dev_type_Other/Unknown    0.000000\n",
       "95       dev_type_Windows Desktop    0.000000\n",
       "94    dev_type_SmartPhone (Other)    0.000000\n",
       "111              browser_CoolNovo    0.000000\n",
       "92           dev_type_Mac Desktop    0.000000\n",
       "91       dev_type_Desktop (Other)    0.000000\n",
       "90        dev_type_Android Tablet    0.000000\n",
       "..                            ...         ...\n",
       "63                  aff_prov_bing    0.000000\n",
       "65                  aff_prov_daum    0.000000\n",
       "66                aff_prov_direct    0.000000\n",
       "68              aff_prov_facebook    0.000000\n",
       "56               aff_chan_content    0.000000\n",
       "70                aff_prov_google    0.000000\n",
       "71                   aff_prov_gsp    0.000000\n",
       "72                aff_prov_meetup    0.000000\n",
       "73                 aff_prov_naver    0.000000\n",
       "1                     gender_MALE    0.000000\n",
       "75             aff_prov_padmapper    0.000000\n",
       "57                aff_chan_direct    0.000000\n",
       "55                        lang_zh    0.000000\n",
       "38                 signup_flow_16    0.000000\n",
       "45                        lang_es    0.000000\n",
       "39                 signup_flow_20    0.000000\n",
       "40                 signup_flow_21    0.000000\n",
       "41                 signup_flow_23    0.000000\n",
       "42                 signup_flow_24    0.000000\n",
       "43                 signup_flow_25    0.000000\n",
       "44                        lang_en    0.000000\n",
       "46                        lang_fr    0.000000\n",
       "54                        lang_sv    0.000000\n",
       "47                        lang_it    0.000000\n",
       "48                        lang_ja    0.000000\n",
       "49                        lang_ko    0.000000\n",
       "51                     lang_other    0.000000\n",
       "52                        lang_pt    0.000000\n",
       "53                        lang_ru    0.000000\n",
       "148            browser_wOSBrowser    0.000000\n",
       "\n",
       "[149 rows x 2 columns]"
      ]
     },
     "execution_count": 28,
     "metadata": {},
     "output_type": "execute_result"
    }
   ],
   "source": [
    "# Find out which features are the most important in tree model...but I have 150 to list out!\n",
    "# Get df2 column list by converting column value array to list, removing 'country_destination'. \n",
    "# Then take a look at feature importance. \n",
    "\n",
    "feature_cols = np.array(df2.columns.values).tolist()\n",
    "feature_cols.remove('country_destination')\n",
    "feature_importance = pd.DataFrame({'feature':feature_cols, 'importance':dtc.feature_importances_})\n",
    "feature_importance.sort_values(by = 'importance', ascending = False)"
   ]
  },
  {
   "cell_type": "code",
   "execution_count": 29,
   "metadata": {
    "collapsed": false
   },
   "outputs": [
    {
     "name": "stdout",
     "output_type": "stream",
     "text": [
      "DecisionTreeClassifier: 0.87553582892\n",
      "AdaBoostClassifier: 0.863748859633\n",
      "RandomForestClassifier: 0.85363381956\n",
      "ExtraTreesClassifier:   0.750023258515\n"
     ]
    }
   ],
   "source": [
    "# Before paring down list of features, let's see how simple decision tree compares to some ensemble methods.\n",
    "# Max features selected by square root of total # features.\n",
    "\n",
    "# Decision Tree Classifier\n",
    "clf1 = DecisionTreeClassifier(max_depth=4, min_samples_split=1,\n",
    "       random_state=0)\n",
    "clf1.fit(X_train, y_train)\n",
    "scores = cross_val_score(clf1, X, y)\n",
    "print \"DecisionTreeClassifier:\", scores.mean()\n",
    "\n",
    "# Boosted Decision Tree\n",
    "clf2 = AdaBoostClassifier(base_estimator=DecisionTreeClassifier(max_depth=4, min_samples_split=1, max_features=12,\n",
    "       random_state=0))\n",
    "clf2.fit(X_train, y_train)\n",
    "scores = cross_val_score(clf2, X, y)\n",
    "print \"AdaBoostClassifier:\", scores.mean()\n",
    "\n",
    "# Random Forest Classifier\n",
    "clf3 = RandomForestClassifier(n_estimators=10, max_depth=4, max_features=12,\n",
    "     min_samples_split=1, random_state=0)\n",
    "clf3.fit(X_train, y_train)\n",
    "scores = cross_val_score(clf3, X, y)\n",
    "print \"RandomForestClassifier:\", scores.mean()\n",
    "\n",
    "# Extra Trees Classifier\n",
    "clf4 = ExtraTreesClassifier(n_estimators=10, max_depth=4,  max_features=12,\n",
    "    min_samples_split=1, random_state=0)\n",
    "clf4.fit(X_train, y_train)\n",
    "scores = cross_val_score(clf4, X, y)\n",
    "print \"ExtraTreesClassifier:  \", scores.mean()"
   ]
  },
  {
   "cell_type": "code",
   "execution_count": 30,
   "metadata": {
    "collapsed": false
   },
   "outputs": [
    {
     "name": "stdout",
     "output_type": "stream",
     "text": [
      "Sample size:  213451\n",
      "Features:  149\n",
      "Classes:  12\n",
      "Target class names:  ['NO BOOKING' 'US' 'OTHER' 'FR' 'CA' 'GB' 'ES' 'IT' 'PT' 'NL' 'DE' 'AU']\n"
     ]
    }
   ],
   "source": [
    "# Since I have so many features and a pretty sparse dataset, use PCA to identify and extract the most influential features.\n",
    "# First, get organized.\n",
    "\n",
    "n_samples, n_features = X.shape\n",
    "target_names = df2.country_destination.unique()\n",
    "n_classes = target_names.shape[0]\n",
    "\n",
    "print \"Sample size: \", n_samples\n",
    "print \"Features: \", n_features\n",
    "print \"Classes: \", n_classes\n",
    "print \"Target class names: \", target_names"
   ]
  },
  {
   "cell_type": "code",
   "execution_count": 31,
   "metadata": {
    "collapsed": false
   },
   "outputs": [],
   "source": [
    "# Get centered.\n",
    "X_centered = X - X.mean()"
   ]
  },
  {
   "cell_type": "code",
   "execution_count": 32,
   "metadata": {
    "collapsed": true
   },
   "outputs": [],
   "source": [
    "# Start by including all 149 features and see what happens.\n",
    "\n",
    "# Create PCA-generator\n",
    "pca = PCA(n_components = 149)\n",
    "\n",
    "# Transform X_centered to X_pca via fit_transform\n",
    "X_pca = pca.fit_transform(X_centered)\n",
    "\n",
    "# Transform X_train to X_train_pca\n",
    "X_train_pca = pca.transform(X_train)\n",
    "\n",
    "# Transform X_test to X_test_pca\n",
    "X_test_pca = pca.transform(X_test)"
   ]
  },
  {
   "cell_type": "code",
   "execution_count": 33,
   "metadata": {
    "collapsed": false
   },
   "outputs": [
    {
     "data": {
      "image/png": "[encoded data removed]",
      "text/plain": [
       "<matplotlib.figure.Figure at 0xa65d668>"
      ]
     },
     "metadata": {},
     "output_type": "display_data"
    }
   ],
   "source": [
    "#Plot the explained variance for each component.\n",
    "fig = plt.figure(figsize=(20,50))\n",
    "ax = fig.add_subplot(1,1,1)\n",
    "ax.bar([x for x in range(len(pca.explained_variance_ratio_))],pca.explained_variance_ratio_)\n",
    "ax.set_title(\"Explained variance\", size=32)\n",
    "ax.set_ylabel(\"Percent explained\", size=24)\n",
    "ax.set_xlabel(\"Principal Component\", size=24);"
   ]
  },
  {
   "cell_type": "code",
   "execution_count": 34,
   "metadata": {
    "collapsed": false
   },
   "outputs": [],
   "source": [
    "# Try PCA-generator again, this time for 7 components.\n",
    "pca = PCA(n_components=7)\n",
    "\n",
    "# Transform X_centered to X_pca via a fit_transform\n",
    "X_pca = pca.fit_transform(X_centered)\n",
    "\n",
    "# Transform X_train to X_train_pca\n",
    "X_train_pca = pca.transform(X_train)\n",
    "\n",
    "# Transform X_test to X_test_pca\n",
    "X_test_pca = pca.transform(X_test)"
   ]
  },
  {
   "cell_type": "code",
   "execution_count": 35,
   "metadata": {
    "collapsed": false
   },
   "outputs": [
    {
     "data": {
      "image/png": "[encoded data removed]",
      "text/plain": [
       "<matplotlib.figure.Figure at 0x231d2cf8>"
      ]
     },
     "metadata": {},
     "output_type": "display_data"
    }
   ],
   "source": [
    "#Plot the explained variance for each component.\n",
    "fig = plt.figure(figsize=(5,10))\n",
    "ax = fig.add_subplot(1,1,1)\n",
    "ax.bar([x for x in range(len(pca.explained_variance_ratio_))],pca.explained_variance_ratio_)\n",
    "ax.set_title(\"Explained variance\", size=32)\n",
    "ax.set_ylabel(\"Percent explained\", size=24)\n",
    "ax.set_xlabel(\"Principal Component\", size=24);"
   ]
  },
  {
   "cell_type": "code",
   "execution_count": 36,
   "metadata": {
    "collapsed": false
   },
   "outputs": [
    {
     "name": "stdout",
     "output_type": "stream",
     "text": [
      "DecisionTreeClassifier: 0.87553582892\n",
      "AdaBoostClassifier: 0.871586486951\n",
      "RandomForestClassifier: 0.593302756441\n",
      "ExtraTreesClassifier:   0.628438768221\n"
     ]
    }
   ],
   "source": [
    "# See how reduced feature space runs through previously tested models.\n",
    "# Note that we have to adjust max_features to account for fewer features.\n",
    "\n",
    "# Decision Tree Classifier\n",
    "clf1 = DecisionTreeClassifier(max_depth=4, min_samples_split=1,\n",
    "       random_state=0)\n",
    "clf1.fit(X_train_pca, y_train)\n",
    "scores = cross_val_score(clf1, X, y)\n",
    "print \"DecisionTreeClassifier:\", scores.mean()\n",
    "\n",
    "# Boosted Decision Tree\n",
    "clf2 = AdaBoostClassifier(base_estimator=DecisionTreeClassifier(max_depth=4, min_samples_split=1, max_features=4,\n",
    "       random_state=0))\n",
    "clf2.fit(X_train_pca, y_train)\n",
    "scores = cross_val_score(clf2, X, y)\n",
    "print \"AdaBoostClassifier:\", scores.mean()\n",
    "\n",
    "# Random Forest Classifier\n",
    "clf3 = RandomForestClassifier(n_estimators=10, max_depth=4, max_features=4,\n",
    "     min_samples_split=1, random_state=0)\n",
    "clf3.fit(X_train_pca, y_train)\n",
    "scores = cross_val_score(clf3, X, y)\n",
    "print \"RandomForestClassifier:\", scores.mean()\n",
    "\n",
    "# Extra Trees Classifier\n",
    "clf4 = ExtraTreesClassifier(n_estimators=10, max_depth=4,  max_features=4,\n",
    "    min_samples_split=1, random_state=0)\n",
    "clf4.fit(X_train_pca, y_train)\n",
    "scores = cross_val_score(clf4, X, y)\n",
    "print \"ExtraTreesClassifier:  \", scores.mean()"
   ]
  },
  {
   "cell_type": "code",
   "execution_count": 37,
   "metadata": {
    "collapsed": false
   },
   "outputs": [
    {
     "data": {
      "text/plain": [
       "0.85079549500590301"
      ]
     },
     "execution_count": 37,
     "metadata": {},
     "output_type": "execute_result"
    }
   ],
   "source": [
    "#Try K-NEAREST NEIGHBORS classifier on reduced feature space.\n",
    "knn = KNeighborsClassifier()\n",
    "knn.fit(X_train_pca, y_train)\n",
    "knn.score(X_test_pca, y_test)"
   ]
  }
 ],
 "metadata": {
  "kernelspec": {
   "display_name": "Python 2",
   "language": "python",
   "name": "python2"
  },
  "language_info": {
   "codemirror_mode": {
    "name": "ipython",
    "version": 2
   },
   "file_extension": ".py",
   "mimetype": "text/x-python",
   "name": "python",
   "nbconvert_exporter": "python",
   "pygments_lexer": "ipython2",
   "version": "2.7.10"
  }
 },
 "nbformat": 4,
 "nbformat_minor": 0
}
